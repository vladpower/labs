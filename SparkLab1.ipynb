{
  "nbformat": 4,
  "nbformat_minor": 0,
  "metadata": {
    "colab": {
      "provenance": [],
      "authorship_tag": "ABX9TyM0EM1Eun63trPWPdHVAepc",
      "include_colab_link": true
    },
    "kernelspec": {
      "name": "python3",
      "display_name": "Python 3"
    },
    "language_info": {
      "name": "python"
    }
  },
  "cells": [
    {
      "cell_type": "markdown",
      "metadata": {
        "id": "view-in-github",
        "colab_type": "text"
      },
      "source": [
        "<a href=\"https://colab.research.google.com/github/Maxasaran/labs/blob/main/SparkLab1.ipynb\" target=\"_parent\"><img src=\"https://colab.research.google.com/assets/colab-badge.svg\" alt=\"Open In Colab\"/></a>"
      ]
    },
    {
      "cell_type": "code",
      "source": [
        "!pip install numpy\n",
        "!pip install pandas\n",
        "!pip install matplotlib\n",
        "!pip install seaborn\n",
        "!pip install pyspark \n",
        "from pyspark.sql import SparkSession\n",
        "spark = SparkSession.builder.master(\"local[1]\") \\\n",
        "                    .appName('SparkApp') \\\n",
        "                    .getOrCreate()\n",
        "tiktokData2022 = spark\\\n",
        "  .read\\\n",
        "  .option(\"inferSchema\", \"true\")\\\n",
        "  .option(\"header\", \"true\")\\\n",
        "  .csv(\"/content/TikTok_songs_2022.csv\")\n",
        "\n",
        "tiktokData2022.createOrReplaceTempView(\"TikTok_songs_2022\")"
      ],
      "metadata": {
        "id": "drT3Bl2EgxDp"
      },
      "execution_count": null,
      "outputs": []
    },
    {
      "cell_type": "code",
      "source": [
        "\n",
        "\n",
        "tiktokData2022.createOrReplaceTempView(\"TikTok_songs_2022\")\n",
        "from pyspark.sql.functions import desc\n",
        "\n",
        "sqlWay = spark.sql(\"\"\"\n",
        "SELECT track_name,artist_name\n",
        "FROM TikTok_songs_2022\n",
        "LIMIT 5\n",
        "\"\"\")\n",
        "\n",
        "dataFrameWay = tiktokData2022\\\n",
        "    .select(\n",
        "    \"track_name\",\n",
        "    \"artist_name\")\\\n",
        "    .limit(5)\n",
        "\n",
        "sqlWay.show()\n",
        "dataFrameWay.show()\n",
        "\n",
        "tiktokData2022.dtypes"
      ],
      "metadata": {
        "id": "T3nJSD66hrsT"
      },
      "execution_count": null,
      "outputs": []
    },
    {
      "cell_type": "code",
      "source": [
        "\n",
        "#1: Получите список исполнителей с популярностью больше 90%\n",
        "artist_name_sql = spark.sql(\"\"\" \n",
        "SELECT DISTINCT artist_name \n",
        "FROM TikTok_songs_2022 \n",
        "WHERE artist_pop > 90\n",
        "\"\"\")\n",
        "\n",
        "artist_name = tiktokData2022.filter(\"artist_pop > 90\") \\\n",
        "                .select(\"artist_name\") \\\n",
        "                .dropDuplicates()\n",
        "\n",
        "print(artist_name_sql.rdd.map(lambda x: x[0]).collect())\n",
        "print(artist_name.rdd.map(lambda x: x[0]).collect())\n"
      ],
      "metadata": {
        "id": "09xrr6Hui6Nh"
      },
      "execution_count": null,
      "outputs": []
    },
    {
      "cell_type": "code",
      "source": [
        "# 2: Выведите список исполнителей и количество их треков в порядке уменьшения.\n",
        "# Ограничьте выборку исполнителями, у которых не менее 3 треков в наборе данных.\n",
        "\n",
        "artist_tracks_sql = spark.sql(\"\"\"\n",
        "SELECT artist_name, COUNT(*) as number_of_tracks\n",
        "FROM TikTok_songs_2022\n",
        "GROUP BY artist_name \n",
        "HAVING COUNT(*) >= 3\n",
        "ORDER BY number_of_tracks DESC\n",
        "\"\"\")\n",
        "\n",
        "artist_tracks = tiktokData2022.groupby(\"artist_name\") \\\n",
        "                    .count().withColumnRenamed(\"count\", \"number_of_tracks\") \\\n",
        "                    .sort(desc(\"number_of_tracks\")) \\\n",
        "                    .filter(\"number_of_tracks >= 3\")\n",
        "artist_tracks_sql.show()\n",
        "artist_tracks.show()"
      ],
      "metadata": {
        "id": "35zyXKR5ERNj"
      },
      "execution_count": null,
      "outputs": []
    },
    {
      "cell_type": "code",
      "source": [
        "# 3: Выведите список названий треков, средняя громкость которых лежит в диапазоне от -10 до -9 Дб.\n",
        "\n",
        "# ['Glimpse of Us', 'Left and Right (Charlie Puth) [feat. Jung Kook of BTS] - Sped Up Version',\n",
        "# 'Frozen', \"Can't Get You Out of My Head\", 'I Hate U', 'I AM WOMAN', 'Buss It', 'Whatever You Like',\n",
        "# 'MONEY', 'Freaks', 'telepatía', 'Falling Down', 'Party Girl', 'Skechers', 'Good Looking']\n",
        "songs_list_sql = spark.sql(\"\"\"\n",
        "SELECT track_name\n",
        "FROM TikTok_songs_2022\n",
        "WHERE loudness\n",
        "BETWEEN -10 AND -9\n",
        "\"\"\")\n",
        "songs_list = tiktokData2022 \\\n",
        "              .filter(\"loudness > -10\") \\\n",
        "              .filter(\"loudness < -9\") \\\n",
        "              .select(\"track_name\")\n",
        "\n",
        "print(songs_list_sql.rdd.map(lambda x: x[0]).collect())\n",
        "print(songs_list.rdd.map(lambda x: x[0]).collect())\n"
      ],
      "metadata": {
        "id": "qS6RsqXHg1Kv"
      },
      "execution_count": null,
      "outputs": []
    },
    {
      "cell_type": "code",
      "source": [
        "#4: Выведите список треков, в названиях которых есть слово \"love\" (без учета регистра).\n",
        "\n",
        "# ['Another Love', 'love nwantiti (ah ah ah)', 'Tainted Love', 'Looking for Love', 'Free Falling Love',\n",
        "# 'Electric Love', 'Feel Your Love', 'What You Know Bout Love', 'Savage Love (Laxed - Siren Beat)',\n",
        "# 'Love Me Again', 'Lovely']\n",
        "\n",
        "songs_list_lower_sql = spark.sql(\"\"\"\n",
        "SELECT track_name\n",
        "FROM TikTok_songs_2022\n",
        "WHERE track_name ILIKE '%love%'\n",
        "\"\"\")\n",
        "\n",
        "songs_list_lower = tiktokData2022 \\\n",
        "                      .select(\"track_name\") \\\n",
        "                      .where(tiktokData2022.track_name \\\n",
        "                      .ilike(\"%love%\")) \n",
        "                      \n",
        "print(songs_list_lower_sql.rdd.map(lambda x: x[0]).collect())\n",
        "print(songs_list_lower.rdd.map(lambda x: x[0]).collect())"
      ],
      "metadata": {
        "id": "A5WJZHpNq20K"
      },
      "execution_count": null,
      "outputs": []
    },
    {
      "cell_type": "code",
      "source": [
        "#5: Получите таблицу из песен Арианы Гранде и Astelle. Отсортируйте их по примеру ниже.\n",
        "two_artist_sql = spark.sql(\"\"\"\n",
        "SELECT track_name, artist_name\n",
        "FROM TikTok_songs_2022\n",
        "WHERE artist_name IN ('Ariana Grande','Astelle')\n",
        "ORDER BY artist_name, track_name\n",
        "\"\"\")\n",
        "\n",
        "two_artist = tiktokData2022 \\\n",
        "              .select(\"track_name\", \"artist_name\") \\\n",
        "              .where(tiktokData2022.artist_name \\\n",
        "              .isin(\"Ariana Grande\",\"Astelle\")) \\\n",
        "              .orderBy(\"artist_name\",\"track_name\") \\\n",
        "\n",
        "two_artist_sql.show()\n",
        "two_artist.show()\n"
      ],
      "metadata": {
        "id": "UyG9p6YhBG7A"
      },
      "execution_count": null,
      "outputs": []
    },
    {
      "cell_type": "code",
      "source": [
        "#6: Какую задачу решает приведенный ниже код?\n",
        "# В чем суть метода K средних?\n",
        "# Какие еще существуют методы машинного обучения для решения данной задачи?\n",
        "# Какие выводы можно сделать о полученных группах?\n",
        "\n",
        "from pyspark.ml.feature import VectorAssembler\n",
        "from pyspark.ml.feature import StringIndexer\n",
        "from pyspark.ml import Pipeline\n",
        "from pyspark.ml.clustering import KMeans\n",
        "from pyspark.sql import Row\n",
        "from pyspark.ml.feature import MinMaxScaler\n",
        "from IPython.display import display\n",
        "import numpy as np\n",
        "\n",
        "k = 20 #Количество итераций образования центроида\n",
        "\n",
        "np.set_printoptions(precision=3, suppress=True)  #задает параметры вывода массива на экран,\n",
        "                                                 #precision - количество цифр после запятой для чисел с плавающей точкой\n",
        "                                                 #suppress - если true то числа с плавающей точкой выводятся как числа с фикс точкой\n",
        "\n",
        "columns_to_scale = [\"danceability\", \"energy\", \"speechiness\", \"acousticness\",\n",
        "                    \"instrumentalness\",\"liveness\", \"valence\", \"duration_ms\",\n",
        "                    \"tempo\", \"track_pop\"]  #столбцы, используемые в обучении \n",
        "\n",
        "assemblers = [VectorAssembler(inputCols = [col], outputCol = col + \"_vec\") for col in columns_to_scale]  #получение векторных значений из значений столбцов, используемых в обучении,\n",
        "                                                                                                         # и их запись в новые столбцы\n",
        "scalers = [MinMaxScaler(inputCol = col + \"_vec\", outputCol = col + \"_scaled\") for col in columns_to_scale] # нормализация значений (диапазон от 0 до 1) векторных значений и запись в новые столбцы\n",
        "\n",
        "vectorAssembler = VectorAssembler()\\\n",
        "  .setInputCols([\"danceability_scaled\", \"energy_scaled\", \"speechiness_scaled\", \"acousticness_scaled\",\n",
        "                 \"instrumentalness_scaled\", \"liveness_scaled\", \"valence_scaled\", \"duration_ms_scaled\",\n",
        "                 \"tempo_scaled\", \"track_pop_scaled\"])\\\n",
        "  .setOutputCol(\"features\")       #получение результирующей вектор-колонки из нормализованных раннее значений \n",
        "\n",
        "transformationPipeline = Pipeline()\\\n",
        "  .setStages(assemblers + scalers + [vectorAssembler])  #устанавливаем методы преобразований в pipeline на случай, \n",
        "                                                        #если будут загружаться новые данные,чтобы они проходили те же преобразования\n",
        "\n",
        "fittedPipeline = transformationPipeline.fit(tiktokData2022) #\"подгонка\" обучающих данных\n",
        "transformedDF = fittedPipeline.transform(tiktokData2022)  #возвращение формата выходных данных к исходному (тут если верно понял функцию transfom https://dfedorov.spb.ru/pandas/%D0%9F%D0%BE%D0%BD%D0%B8%D0%BC%D0%B0%D0%BD%D0%B8%D0%B5%20%D1%84%D1%83%D0%BD%D0%BA%D1%86%D0%B8%D0%B8%20transform%20%D0%B2%20Pandas.html)\n",
        "                                                         \n",
        "\n",
        "kmeans = KMeans()\\\n",
        "  .setK(k)\\\n",
        "  .setSeed(300)  #создаем экземпляр обучаемой модели\n",
        "\n",
        "kmModel = kmeans.fit(transformedDF)  #обучение\n",
        "\n",
        "df_pred = kmModel.transform(transformedDF) #возвращение к исходному формату данных\n",
        "\n",
        "centers = kmModel.clusterCenters() #получаем список каждого значения, образующего  центроид\n",
        "for i in range(0, k):\n",
        "    print(\"group \" + str(i))\n",
        "    print(centers[i])\n",
        "    df = df_pred.selectExpr(\"track_name\", \"danceability\", \"energy\", \"speechiness\",\n",
        "                        \"acousticness\",\"instrumentalness\",\"liveness\", \"valence\",\n",
        "                        \"duration_ms\", \"tempo\", \"track_pop\")\\\n",
        "        .where(\"prediction = \" + str(i))\\\n",
        "        .toPandas()\n",
        "    display(df)\n",
        "#Какую задачу решает приведенный ниже код?    \n",
        "#Отображение результатов обучения - Вывод значений, образующих центроид, в виде списка для каждого столбца\n",
        "#и отображение в виде таблицы списка песен с соответсвующими им значеними столбцов из датасета, наиболее соответствующими значениям образующим центроид\n",
        "#Данный код решает задачу поиска групп песен наиболее близких к друг другу по совокупности значений параметров, указанных в переменной columns_to_scale\n",
        "\n",
        "# В чем суть метода K средних?\n",
        "#k-means — это алгоритм кластеризации, в котором «k» центров случайным образом назначаются в данных.\n",
        "#Ближайшие к этой точке точки затем «присваиваются» классу, и вычисляется центр назначенных точек. \n",
        "#Эта центральная точка называется центроидом. \n",
        "#Затем мы помечаем точки, ближайшие к этому центроиду, и сдвигаем центроид к новому центру этого кластера точек.\n",
        "#Мы повторяем этот процесс для конечного набора итераций или до сходимости (наши центральные точки перестают меняться).\n",
        "\n",
        "# Какие еще существуют методы машинного обучения для решения данной задачи?\n",
        "#k-medoids, агломеративный иерархический метод, дивизимный иерархический метод, плотностной метод (https://scikit-learn.ru/clustering/)\n",
        "\n",
        "# Какие выводы можно сделать о полученных группах?\n",
        "#Вывод о группах песен сделать сложно, тк используется большое количество столбцов (параметров песен) и все они обьединены по случайным значениям, образующим центроид,\n",
        "#то есть обьединение групп можно сказать пседослучайное. Чтобы это, как мне кажется, имело практический смысл нужно уменьшить количество параметров(столбцов) для обучения\n",
        "# Одно можно сказать точно, инструментальных треков очень мало\n"
      ],
      "metadata": {
        "id": "wTatnr0kGIVJ"
      },
      "execution_count": null,
      "outputs": []
    }
  ]
}